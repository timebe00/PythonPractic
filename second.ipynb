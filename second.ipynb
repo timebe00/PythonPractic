{
 "cells": [
  {
   "cell_type": "code",
   "execution_count": 1,
   "metadata": {},
   "outputs": [
    {
     "name": "stdout",
     "output_type": "stream",
     "text": [
      "Second\n"
     ]
    }
   ],
   "source": [
    "print('Second')"
   ]
  },
  {
   "cell_type": "code",
   "execution_count": 2,
   "metadata": {},
   "outputs": [
    {
     "name": "stdout",
     "output_type": "stream",
     "text": [
      "test python\n"
     ]
    }
   ],
   "source": [
    "# 홀따옴표도 물자열\n",
    "testStr = 'test' + ' python'\n",
    "print(testStr)"
   ]
  },
  {
   "cell_type": "code",
   "execution_count": 3,
   "metadata": {},
   "outputs": [
    {
     "name": "stdout",
     "output_type": "stream",
     "text": [
      "pointer index\n",
      "p\n",
      "n\n"
     ]
    }
   ],
   "source": [
    "# 바이트 - 비트가 8개 모이면 1바이트가 된다.\n",
    "# 비트 - 0과 1을 표현할 수 있는 최소 단위\n",
    "# 컴퓨터(기계)가 해석할 수 있는 언어가 0과 1뿐이기 때문\n",
    "\n",
    "# 원래 자바나 C는 메모리 섹션(데이터)에 아래 내용을 배치\n",
    "# 그래서 사용자가 쉽게 접근하기가 어려움\n",
    "# 파이썬은 그냥 언어 차원에서 잡근을 제공한다.\n",
    "\n",
    "str = \"pointer index\"\n",
    "print(str)\n",
    "# 아래와 같이 실제로는 우리가 사용하는 문자열은\n",
    "# 1바이트 타입의 배열이 되어 저장되어 있다.\n",
    "# | p | o | i | n | t | e | r |   | i | ...\n",
    "# [0] [1] [2] [3] [4] [5] [6] [7] [8]...\n",
    "\n",
    "print(str[0])\n",
    "print(str[3])"
   ]
  },
  {
   "cell_type": "code",
   "execution_count": 4,
   "metadata": {},
   "outputs": [
    {
     "name": "stdout",
     "output_type": "stream",
     "text": [
      "p\n",
      "oin\n",
      "po\n",
      "ex\n",
      "pointer index\n",
      "pitridx\n"
     ]
    }
   ],
   "source": [
    "# 0부터 1전까지\n",
    "print(str[0 : 1])\n",
    "\n",
    "# 1부터 4전까지\n",
    "print(str[1 : 4])\n",
    "\n",
    "# 0부터 2전까지\n",
    "print(str[ : 2])\n",
    "\n",
    "# -2는 뒤에서 2번째를 의미한다.\n",
    "print(str[-2 : ])\n",
    "\n",
    "# [:]은 전부 다 복사한다.\n",
    "# 새로운 객체를 만든다.\n",
    "print(str[:])\n",
    "\n",
    "# 전부 복사하는데 2칸씩 건너뛴다.\n",
    "print(str[::2])"
   ]
  },
  {
   "cell_type": "code",
   "execution_count": 5,
   "metadata": {},
   "outputs": [
    {
     "ename": "TypeError",
     "evalue": "'str' object is not callable",
     "output_type": "error",
     "traceback": [
      "\u001b[1;31m---------------------------------------------------------------------------\u001b[0m",
      "\u001b[1;31mTypeError\u001b[0m                                 Traceback (most recent call last)",
      "\u001b[1;32m<ipython-input-5-874600c3f00d>\u001b[0m in \u001b[0;36m<module>\u001b[1;34m\u001b[0m\n\u001b[0;32m      1\u001b[0m \u001b[1;31m# TypeError: 'str' object is not callable\u001b[0m\u001b[1;33m\u001b[0m\u001b[1;33m\u001b[0m\u001b[1;33m\u001b[0m\u001b[0m\n\u001b[1;32m----> 2\u001b[1;33m \u001b[0mmakeStr\u001b[0m \u001b[1;33m=\u001b[0m \u001b[0mstr\u001b[0m\u001b[1;33m(\u001b[0m\u001b[1;36m3.14\u001b[0m\u001b[1;33m)\u001b[0m\u001b[1;33m\u001b[0m\u001b[1;33m\u001b[0m\u001b[0m\n\u001b[0m\u001b[0;32m      3\u001b[0m \u001b[0mintStr\u001b[0m \u001b[1;33m=\u001b[0m \u001b[0mint\u001b[0m\u001b[1;33m(\u001b[0m\u001b[1;34m\"77\"\u001b[0m\u001b[1;33m)\u001b[0m\u001b[1;33m\u001b[0m\u001b[1;33m\u001b[0m\u001b[0m\n\u001b[0;32m      4\u001b[0m \u001b[0mfloatStr\u001b[0m \u001b[1;33m=\u001b[0m \u001b[0mfloat\u001b[0m\u001b[1;33m(\u001b[0m\u001b[1;34m\"33\"\u001b[0m\u001b[1;33m)\u001b[0m\u001b[1;33m\u001b[0m\u001b[1;33m\u001b[0m\u001b[0m\n\u001b[0;32m      5\u001b[0m \u001b[1;33m\u001b[0m\u001b[0m\n",
      "\u001b[1;31mTypeError\u001b[0m: 'str' object is not callable"
     ]
    }
   ],
   "source": [
    "# TypeError: 'str' object is not callable\n",
    "makeStr = str(3.14)\n",
    "intStr = int(\"77\")\n",
    "floatStr = float(\"33\")\n",
    "\n",
    "print(makeStr)\n",
    "print(intStr)\n",
    "print(floatStr)\n",
    "\n",
    "print(type(makeStr))\n",
    "print(type(intStr))\n",
    "print(type(floatStr))"
   ]
  },
  {
   "cell_type": "code",
   "execution_count": 6,
   "metadata": {},
   "outputs": [
    {
     "name": "stdout",
     "output_type": "stream",
     "text": [
      "['red', 'green', 'blue']\n",
      "<class 'list'>\n"
     ]
    }
   ],
   "source": [
    "colors = ['red', 'green', 'blue']\n",
    "\n",
    "print(colors)\n",
    "print(type(colors))"
   ]
  },
  {
   "cell_type": "code",
   "execution_count": 7,
   "metadata": {},
   "outputs": [
    {
     "name": "stdout",
     "output_type": "stream",
     "text": [
      "['red', 'green', 'blue', 'gold']\n"
     ]
    }
   ],
   "source": [
    "# 리스트 : 자료구조중 가장 간단한 녀석에 속한다.\n",
    "# 대표적으로 스택과 큐가 있다.\n",
    "\n",
    "# append를 리스트의 마지막에 값을 집어넣게 된다.\n",
    "# 한마디로 파이썬의 리스트는 기본적으로 큐 방식을 사용한다.\n",
    "# 큐는 선입선출, 스택은 후입선출\n",
    "\n",
    "# append : 리스트 맨 뒤에다가 집어 넣는다.\n",
    "colors.append('gold')\n",
    "print(colors)"
   ]
  },
  {
   "cell_type": "code",
   "execution_count": 8,
   "metadata": {},
   "outputs": [
    {
     "name": "stdout",
     "output_type": "stream",
     "text": [
      "['red', 'black', 'green', 'blue', 'gold']\n"
     ]
    }
   ],
   "source": [
    "# 번호, 다음에 가리킬 번호, 데이터\n",
    "# 위 주석은 관리 차원\n",
    "# (000000000개중 데이터 1개를 앞에 추가 할 때)\n",
    "\n",
    "# [1] 인덱스에  'black'을 배치해라\n",
    "colors.insert(1, 'black')\n",
    "print(colors)"
   ]
  },
  {
   "cell_type": "code",
   "execution_count": 9,
   "metadata": {},
   "outputs": [
    {
     "name": "stdout",
     "output_type": "stream",
     "text": [
      "['red', 'black', 'green', 'blue', 'gold', 'white', 'gray']\n"
     ]
    }
   ],
   "source": [
    "# extend는 현재 원소의 맨 뒤쪽에 리스트를 추가한다.\n",
    "colors.extend(['white', 'gray'])\n",
    "print(colors)"
   ]
  },
  {
   "cell_type": "code",
   "execution_count": 10,
   "metadata": {},
   "outputs": [
    {
     "name": "stdout",
     "output_type": "stream",
     "text": [
      "['red', 'black', 'green', 'blue', 'gold', 'white', 'gray', 'purple', 'red']\n"
     ]
    }
   ],
   "source": [
    "# extend() == +=\n",
    "colors += ['purple', 'red']\n",
    "print(colors)"
   ]
  },
  {
   "cell_type": "code",
   "execution_count": 11,
   "metadata": {},
   "outputs": [
    {
     "name": "stdout",
     "output_type": "stream",
     "text": [
      "7\n"
     ]
    }
   ],
   "source": [
    "# index는 특정 원소의 위치가 어디있는지 알려준다.\n",
    "print(colors.index('purple'))"
   ]
  },
  {
   "cell_type": "code",
   "execution_count": 12,
   "metadata": {},
   "outputs": [
    {
     "name": "stdout",
     "output_type": "stream",
     "text": [
      "8\n",
      "0\n"
     ]
    }
   ],
   "source": [
    "# 위와 마찬가지지만 시작을 1부터 하게 된다.\n",
    "# 그러므로 맨 앞에 있는 0 번을 무시하기 된다.\n",
    "print(colors.index('red', 1))\n",
    "print(colors.index('red'))"
   ]
  },
  {
   "cell_type": "code",
   "execution_count": 13,
   "metadata": {},
   "outputs": [
    {
     "ename": "ValueError",
     "evalue": "'blue' is not in list",
     "output_type": "error",
     "traceback": [
      "\u001b[1;31m---------------------------------------------------------------------------\u001b[0m",
      "\u001b[1;31mValueError\u001b[0m                                Traceback (most recent call last)",
      "\u001b[1;32m<ipython-input-13-ef02afe251ef>\u001b[0m in \u001b[0;36m<module>\u001b[1;34m\u001b[0m\n\u001b[0;32m      1\u001b[0m \u001b[1;31m# index('어떤 원소를', 몇부터 , 몇까지) <-검사하라\u001b[0m\u001b[1;33m\u001b[0m\u001b[1;33m\u001b[0m\u001b[1;33m\u001b[0m\u001b[0m\n\u001b[1;32m----> 2\u001b[1;33m \u001b[0mprint\u001b[0m\u001b[1;33m(\u001b[0m\u001b[0mcolors\u001b[0m\u001b[1;33m.\u001b[0m\u001b[0mindex\u001b[0m\u001b[1;33m(\u001b[0m\u001b[1;34m'blue'\u001b[0m\u001b[1;33m,\u001b[0m \u001b[1;36m4\u001b[0m\u001b[1;33m,\u001b[0m \u001b[1;36m8\u001b[0m\u001b[1;33m)\u001b[0m\u001b[1;33m)\u001b[0m\u001b[1;33m\u001b[0m\u001b[1;33m\u001b[0m\u001b[0m\n\u001b[0m\u001b[0;32m      3\u001b[0m \u001b[1;31m# 4 ~ 8 사이에 'blue'가 없기 때문에 에러가 뜸\u001b[0m\u001b[1;33m\u001b[0m\u001b[1;33m\u001b[0m\u001b[1;33m\u001b[0m\u001b[0m\n",
      "\u001b[1;31mValueError\u001b[0m: 'blue' is not in list"
     ]
    }
   ],
   "source": [
    "# index('어떤 원소를', 몇부터 , 몇까지) <-검사하라\n",
    "print(colors.index('blue', 4, 8))\n",
    "# 4 ~ 8 사이에 'blue'가 없기 때문에 에러가 뜸"
   ]
  },
  {
   "cell_type": "code",
   "execution_count": 14,
   "metadata": {},
   "outputs": [
    {
     "name": "stdout",
     "output_type": "stream",
     "text": [
      "3\n"
     ]
    }
   ],
   "source": [
    "print(colors.index('blue', 3, 8))"
   ]
  },
  {
   "cell_type": "code",
   "execution_count": 15,
   "metadata": {},
   "outputs": [
    {
     "name": "stdout",
     "output_type": "stream",
     "text": [
      "2\n"
     ]
    }
   ],
   "source": [
    "# count : 원소의 개수를 세기\n",
    "print(colors.count('red'))"
   ]
  },
  {
   "cell_type": "code",
   "execution_count": 20,
   "metadata": {},
   "outputs": [
    {
     "name": "stdout",
     "output_type": "stream",
     "text": [
      "['red', 'black', 'green', 'blue', 'gold']\n",
      "['red', 'black', 'green', 'blue', 'gold', 'white']\n"
     ]
    }
   ],
   "source": [
    "print(colors)\n",
    "\n",
    "#  pop이란 것은 보통 Stack에서 사용한다.\n",
    "# 왜냐하면 pop은 전형적인 후입선출 구로를 가지기 때문\n",
    "# 그래서 마지막 원소들이 출력되는 것을 볼 수 있다.\n",
    "print(colors.pop())\n",
    "print(colors.pop())\n",
    "print(colors.pop())\n",
    "print(colors.pop())\n",
    "print(colors)"
   ]
  },
  {
   "cell_type": "code",
   "execution_count": 21,
   "metadata": {},
   "outputs": [
    {
     "name": "stdout",
     "output_type": "stream",
     "text": [
      "['red', 'black', 'blue', 'gold', 'white', 'gray', 'purple', 'red']\n"
     ]
    }
   ],
   "source": [
    "colors = ['red', 'black', 'green', 'blue', 'gold', 'white', 'gray', 'purple', 'red']\n",
    "\n",
    "# 원하는 원소 제거\n",
    "colors.remove('green')\n",
    "print(colors)"
   ]
  },
  {
   "cell_type": "code",
   "execution_count": 22,
   "metadata": {},
   "outputs": [
    {
     "name": "stdout",
     "output_type": "stream",
     "text": [
      "origin sort :  ['black', 'blue', 'gold', 'gray', 'purple', 'red', 'red', 'white']\n"
     ]
    }
   ],
   "source": [
    "# 파이썬의 정렬은 sort 한 방으로 충분하다.\n",
    "colors.sort()\n",
    "print('origin sort : ', colors)"
   ]
  },
  {
   "cell_type": "code",
   "execution_count": 24,
   "metadata": {},
   "outputs": [
    {
     "name": "stdout",
     "output_type": "stream",
     "text": [
      "reverse :  ['red', 'purple', 'gray', 'gold', 'blue', 'green', 'black', 'red']\n"
     ]
    }
   ],
   "source": [
    "# 단순히 내용을 뒤집는다.\n",
    "colors = ['red', 'black', 'green', 'blue', 'gold', 'gray', 'purple', 'red']\n",
    "colors.reverse()\n",
    "print('reverse : ', colors)"
   ]
  },
  {
   "cell_type": "code",
   "execution_count": 25,
   "metadata": {},
   "outputs": [
    {
     "name": "stdout",
     "output_type": "stream",
     "text": [
      "['red', 'gold', 'red', 'purple', 'blue', 'black', 'green', 'gray']\n"
     ]
    }
   ],
   "source": [
    "# 뒤 한자리를 기준으로 정렬한다.\n",
    "\n",
    "def mysort(x):\n",
    "    return x[-1]\n",
    "\n",
    "colors.sort(key = mysort)\n",
    "print(colors)"
   ]
  },
  {
   "cell_type": "code",
   "execution_count": 26,
   "metadata": {},
   "outputs": [
    {
     "name": "stdout",
     "output_type": "stream",
     "text": [
      "['gold', 'red', 'red', 'blue', 'purple', 'black', 'green', 'gray']\n"
     ]
    }
   ],
   "source": [
    "# 뒷 한자리만 보고 Stack방식으로 정렬한다.\n",
    "colors = ['red', 'black', 'green', 'blue', 'gold', 'gray', 'purple', 'red']\n",
    "def mysort(x):\n",
    "    return x[-1]\n",
    "\n",
    "colors.sort()\n",
    "colors.sort(key = mysort)\n",
    "print(colors)"
   ]
  },
  {
   "cell_type": "code",
   "execution_count": 27,
   "metadata": {},
   "outputs": [
    {
     "name": "stdout",
     "output_type": "stream",
     "text": [
      "['red', 'black', 'green', 'blue', 'gold', 'gray', 'purple', 'red']\n",
      "['black', 'blue', 'gold', 'gray', 'green', 'purple', 'red', 'red']\n",
      "['red', 'red', 'purple', 'green', 'gray', 'gold', 'blue', 'black']\n"
     ]
    }
   ],
   "source": [
    "colors = ['red', 'black', 'green', 'blue', 'gold', 'gray', 'purple', 'red']\n",
    "print(colors)\n",
    "colors.sort()\n",
    "print(colors)\n",
    "# 기본의 sort는 오름차순 정렬이였는데\n",
    "# reverse = True를 주면 내림차순 정렬로 바꿔서 동작 시킬수 있다.\n",
    "colors.sort(reverse = True)\n",
    "\n",
    "print(colors)"
   ]
  },
  {
   "cell_type": "code",
   "execution_count": 28,
   "metadata": {},
   "outputs": [
    {
     "name": "stdout",
     "output_type": "stream",
     "text": [
      "{1, 2, 3}\n",
      "{3, 4, 5}\n",
      "<class 'set'>\n"
     ]
    }
   ],
   "source": [
    "# 데이터의 집합 처리\n",
    "# 대괄호를 감쌀 경우엔 리스트(list)\n",
    "# 중괄호로 감쌀 경우엔 집합(set)\n",
    "a = {1, 2, 3}\n",
    "b = {3, 4, 5}\n",
    "\n",
    "print(a)\n",
    "print(b)\n",
    "\n",
    "print(type(b))"
   ]
  },
  {
   "cell_type": "code",
   "execution_count": 29,
   "metadata": {},
   "outputs": [
    {
     "name": "stdout",
     "output_type": "stream",
     "text": [
      "{1, 2, 3, 4, 5}\n",
      "{3}\n"
     ]
    }
   ],
   "source": [
    "# 합집합\n",
    "print(a.union(b))\n",
    "# 교집합\n",
    "print(a.intersection(b))"
   ]
  },
  {
   "cell_type": "code",
   "execution_count": 30,
   "metadata": {},
   "outputs": [
    {
     "name": "stdout",
     "output_type": "stream",
     "text": [
      "{1, 2}\n",
      "{4, 5}\n",
      "{1, 2, 3, 4, 5}\n",
      "{3}\n",
      "{1, 2, 4, 5}\n"
     ]
    }
   ],
   "source": [
    "# 차집합의 경우 빼는 순서가 중효하다.\n",
    "print(a - b)\n",
    "print(b - a)\n",
    "\n",
    "# 합집합(OR연산 자바의 ||와 같다.)\n",
    "print(a | b)\n",
    "# 교집합(AND연산 자바의 &&와 같다.)\n",
    "print(a & b)\n",
    "# XOR연산(교집합만 제외하고 합친다.)\n",
    "print(a ^ b)"
   ]
  },
  {
   "cell_type": "code",
   "execution_count": 31,
   "metadata": {},
   "outputs": [
    {
     "name": "stdout",
     "output_type": "stream",
     "text": [
      "(1, 2, 3)\n",
      "<class 'tuple'>\n"
     ]
    }
   ],
   "source": [
    "# 튜플른 소괄호로 묶으면 된다.(tuple)\n",
    "t = (1, 2, 3)\n",
    "print(t)\n",
    "print(type(t))"
   ]
  },
  {
   "cell_type": "code",
   "execution_count": 35,
   "metadata": {},
   "outputs": [
    {
     "name": "stdout",
     "output_type": "stream",
     "text": [
      "1 2\n",
      "<class 'int'>\n"
     ]
    }
   ],
   "source": [
    "# 변수에 값을 넣는 방법1\n",
    "a, b = 1, 2\n",
    "print(a, b)"
   ]
  },
  {
   "cell_type": "code",
   "execution_count": 41,
   "metadata": {},
   "outputs": [
    {
     "name": "stdout",
     "output_type": "stream",
     "text": [
      "3 7\n"
     ]
    }
   ],
   "source": [
    "# 변수에 값을 넣는 방법2\n",
    "(a, b) = (3, 7)\n",
    "print(a, b)"
   ]
  },
  {
   "cell_type": "code",
   "execution_count": 42,
   "metadata": {},
   "outputs": [
    {
     "name": "stdout",
     "output_type": "stream",
     "text": [
      "7 3\n"
     ]
    }
   ],
   "source": [
    "# 변수의 값을 바꾸는 방법\n",
    "a, b = b, a\n",
    "print(a, b)"
   ]
  },
  {
   "cell_type": "code",
   "execution_count": 46,
   "metadata": {},
   "outputs": [
    {
     "name": "stdout",
     "output_type": "stream",
     "text": [
      "[1, 2, 3]\n",
      "<class 'list'>\n"
     ]
    }
   ],
   "source": [
    "# set으로 형변환하기\n",
    "a = set((1, 2, 3))\n",
    "print(a)\n",
    "print(type(a))"
   ]
  },
  {
   "cell_type": "code",
   "execution_count": 47,
   "metadata": {},
   "outputs": [
    {
     "name": "stdout",
     "output_type": "stream",
     "text": [
      "[1, 2, 3]\n",
      "<class 'list'>\n"
     ]
    }
   ],
   "source": [
    "# list으로 형변환하기\n",
    "b = list(a)\n",
    "print(b)\n",
    "print(type(b))"
   ]
  },
  {
   "cell_type": "code",
   "execution_count": 48,
   "metadata": {},
   "outputs": [
    {
     "name": "stdout",
     "output_type": "stream",
     "text": [
      "(1, 2, 3)\n",
      "<class 'tuple'>\n"
     ]
    }
   ],
   "source": [
    "# tuple으로 형변환하기\n",
    "c = tuple(b)\n",
    "print(c)\n",
    "print(type(c))"
   ]
  },
  {
   "cell_type": "code",
   "execution_count": 49,
   "metadata": {},
   "outputs": [
    {
     "name": "stdout",
     "output_type": "stream",
     "text": [
      "True\n",
      "True\n",
      "False\n"
     ]
    }
   ],
   "source": [
    "# '이것이' in '에 있는가'\n",
    "print(1 in a)\n",
    "print(3 in a)\n",
    "print(7 in a)"
   ]
  },
  {
   "cell_type": "code",
   "execution_count": 50,
   "metadata": {},
   "outputs": [
    {
     "name": "stdout",
     "output_type": "stream",
     "text": [
      "{'a': 1, 'b': 3, 'c': 5}\n",
      "<class 'dict'>\n"
     ]
    }
   ],
   "source": [
    "# 딕셔너리는 키 값과 밸류값이 공존하는 데이터 타입\n",
    "# 키값 a가 있고 그 키값에 해당하는 값은 1이다.\n",
    "# 키값 b가 있고 그 키값에 해당하는 값은 3이다.\n",
    "# 요런 구조를 보통 Hash(해쉬)라고 한다.\n",
    "\n",
    "d = dict(a = 1, b = 3, c = 5)\n",
    "print(d)\n",
    "print(type(d))"
   ]
  },
  {
   "cell_type": "code",
   "execution_count": 51,
   "metadata": {},
   "outputs": [
    {
     "name": "stdout",
     "output_type": "stream",
     "text": [
      "{'apple': 'red', 'lemon': 'yellow'}\n",
      "<class 'dict'>\n"
     ]
    }
   ],
   "source": [
    "# 키값이 있고 밸류값에 다세 해쉬가 올 수 있다.\n",
    "color = {'apple' : 'red', 'lemon' : 'yellow'}\n",
    "print(color)\n",
    "print(type(color))"
   ]
  },
  {
   "cell_type": "code",
   "execution_count": 52,
   "metadata": {},
   "outputs": [
    {
     "name": "stdout",
     "output_type": "stream",
     "text": [
      "red\n"
     ]
    }
   ],
   "source": [
    "print(color['apple'])"
   ]
  },
  {
   "cell_type": "code",
   "execution_count": 55,
   "metadata": {},
   "outputs": [
    {
     "name": "stdout",
     "output_type": "stream",
     "text": [
      "('apple', 'red')\n",
      "('lemon', 'yellow')\n"
     ]
    }
   ],
   "source": [
    "# color에 있는 요소를 가져와서 c에 저장\n",
    "for c in color.items():\n",
    "    print(c)"
   ]
  },
  {
   "cell_type": "code",
   "execution_count": 63,
   "metadata": {},
   "outputs": [
    {
     "name": "stdout",
     "output_type": "stream",
     "text": [
      "{'apple': 'green', 'lemon': 'yellow'}\n"
     ]
    }
   ],
   "source": [
    "# color에 있는 키값  apple의 밸류값 바꾸기\n",
    "color['apple'] = 'green'\n",
    "print(color)"
   ]
  },
  {
   "cell_type": "code",
   "execution_count": 64,
   "metadata": {},
   "outputs": [
    {
     "name": "stdout",
     "output_type": "stream",
     "text": [
      "key =apple\tvalue =green\n",
      "key =lemon\tvalue =yellow\n"
     ]
    }
   ],
   "source": [
    "# 키값과 배류 값을 나눠서 각각 가져온다.\n",
    "for a, b in color.items():\n",
    "    print('key =' + a + '\\tvalue =' + b)"
   ]
  },
  {
   "cell_type": "code",
   "execution_count": 65,
   "metadata": {},
   "outputs": [
    {
     "name": "stdout",
     "output_type": "stream",
     "text": [
      "apple\n",
      "lemon\n"
     ]
    }
   ],
   "source": [
    "# 키값만 따로 뽑아서 돌리기 가능\n",
    "for a in color.keys():\n",
    "    print(a)"
   ]
  },
  {
   "cell_type": "code",
   "execution_count": 66,
   "metadata": {},
   "outputs": [
    {
     "name": "stdout",
     "output_type": "stream",
     "text": [
      "green\n",
      "yellow\n"
     ]
    }
   ],
   "source": [
    "# 밸류 값만 따로 뽑아서 돌리기 가능\n",
    "for a in color.values():\n",
    "    print(a)"
   ]
  },
  {
   "cell_type": "code",
   "execution_count": null,
   "metadata": {},
   "outputs": [],
   "source": []
  }
 ],
 "metadata": {
  "kernelspec": {
   "display_name": "Python 3",
   "language": "python",
   "name": "python3"
  },
  "language_info": {
   "codemirror_mode": {
    "name": "ipython",
    "version": 3
   },
   "file_extension": ".py",
   "mimetype": "text/x-python",
   "name": "python",
   "nbconvert_exporter": "python",
   "pygments_lexer": "ipython3",
   "version": "3.7.6"
  }
 },
 "nbformat": 4,
 "nbformat_minor": 4
}
