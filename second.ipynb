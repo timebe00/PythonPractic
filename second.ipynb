{
 "cells": [
  {
   "cell_type": "code",
   "execution_count": 1,
   "metadata": {},
   "outputs": [
    {
     "name": "stdout",
     "output_type": "stream",
     "text": [
      "Second\n"
     ]
    }
   ],
   "source": [
    "print('Second')"
   ]
  },
  {
   "cell_type": "code",
   "execution_count": 2,
   "metadata": {},
   "outputs": [
    {
     "name": "stdout",
     "output_type": "stream",
     "text": [
      "test python\n"
     ]
    }
   ],
   "source": [
    "# 홀따옴표도 물자열\n",
    "testStr = 'test' + ' python'\n",
    "print(testStr)"
   ]
  },
  {
   "cell_type": "code",
   "execution_count": 3,
   "metadata": {},
   "outputs": [
    {
     "name": "stdout",
     "output_type": "stream",
     "text": [
      "pointer index\n",
      "p\n",
      "n\n"
     ]
    }
   ],
   "source": [
    "# 바이트 - 비트가 8개 모이면 1바이트가 된다.\n",
    "# 비트 - 0과 1을 표현할 수 있는 최소 단위\n",
    "# 컴퓨터(기계)가 해석할 수 있는 언어가 0과 1뿐이기 때문\n",
    "\n",
    "# 원래 자바나 C는 메모리 섹션(데이터)에 아래 내용을 배치\n",
    "# 그래서 사용자가 쉽게 접근하기가 어려움\n",
    "# 파이썬은 그냥 언어 차원에서 잡근을 제공한다.\n",
    "\n",
    "str = \"pointer index\"\n",
    "print(str)\n",
    "# 아래와 같이 실제로는 우리가 사용하는 문자열은\n",
    "# 1바이트 타입의 배열이 되어 저장되어 있다.\n",
    "# | p | o | i | n | t | e | r |   | i | ...\n",
    "# [0] [1] [2] [3] [4] [5] [6] [7] [8]...\n",
    "\n",
    "print(str[0])\n",
    "print(str[3])"
   ]
  },
  {
   "cell_type": "code",
   "execution_count": 5,
   "metadata": {},
   "outputs": [
    {
     "name": "stdout",
     "output_type": "stream",
     "text": [
      "p\n",
      "oin\n",
      "po\n",
      "ex\n",
      "pointer index\n",
      "pitridx\n"
     ]
    }
   ],
   "source": [
    "# 0부터 1전까지\n",
    "print(str[0 : 1])\n",
    "\n",
    "# 1부터 4전까지\n",
    "print(str[1 : 4])\n",
    "\n",
    "# 0부터 2전까지\n",
    "print(str[ : 2])\n",
    "\n",
    "# -2는 뒤에서 2번째를 의미한다.\n",
    "print(str[-2 : ])\n",
    "\n",
    "# [:]은 전부 다 복사한다.\n",
    "# 새로운 객체를 만든다.\n",
    "print(str[:])\n",
    "\n",
    "# 전부 복사하는데 2칸씩 건너뛴다.\n",
    "print(str[::2])"
   ]
  },
  {
   "cell_type": "code",
   "execution_count": 12,
   "metadata": {},
   "outputs": [
    {
     "ename": "TypeError",
     "evalue": "'str' object is not callable",
     "output_type": "error",
     "traceback": [
      "\u001b[1;31m---------------------------------------------------------------------------\u001b[0m",
      "\u001b[1;31mTypeError\u001b[0m                                 Traceback (most recent call last)",
      "\u001b[1;32m<ipython-input-12-874600c3f00d>\u001b[0m in \u001b[0;36m<module>\u001b[1;34m\u001b[0m\n\u001b[0;32m      1\u001b[0m \u001b[1;31m# TypeError: 'str' object is not callable\u001b[0m\u001b[1;33m\u001b[0m\u001b[1;33m\u001b[0m\u001b[1;33m\u001b[0m\u001b[0m\n\u001b[1;32m----> 2\u001b[1;33m \u001b[0mmakeStr\u001b[0m \u001b[1;33m=\u001b[0m \u001b[0mstr\u001b[0m\u001b[1;33m(\u001b[0m\u001b[1;36m3.14\u001b[0m\u001b[1;33m)\u001b[0m\u001b[1;33m\u001b[0m\u001b[1;33m\u001b[0m\u001b[0m\n\u001b[0m\u001b[0;32m      3\u001b[0m \u001b[0mintStr\u001b[0m \u001b[1;33m=\u001b[0m \u001b[0mint\u001b[0m\u001b[1;33m(\u001b[0m\u001b[1;34m\"77\"\u001b[0m\u001b[1;33m)\u001b[0m\u001b[1;33m\u001b[0m\u001b[1;33m\u001b[0m\u001b[0m\n\u001b[0;32m      4\u001b[0m \u001b[0mfloatStr\u001b[0m \u001b[1;33m=\u001b[0m \u001b[0mfloat\u001b[0m\u001b[1;33m(\u001b[0m\u001b[1;34m\"33\"\u001b[0m\u001b[1;33m)\u001b[0m\u001b[1;33m\u001b[0m\u001b[1;33m\u001b[0m\u001b[0m\n\u001b[0;32m      5\u001b[0m \u001b[1;33m\u001b[0m\u001b[0m\n",
      "\u001b[1;31mTypeError\u001b[0m: 'str' object is not callable"
     ]
    }
   ],
   "source": [
    "# TypeError: 'str' object is not callable\n",
    "makeStr = str(3.14)\n",
    "intStr = int(\"77\")\n",
    "floatStr = float(\"33\")\n",
    "\n",
    "print(makeStr)\n",
    "print(intStr)\n",
    "print(floatStr)\n",
    "\n",
    "print(type(makeStr))\n",
    "print(type(intStr))\n",
    "print(type(floatStr))"
   ]
  },
  {
   "cell_type": "code",
   "execution_count": null,
   "metadata": {},
   "outputs": [],
   "source": []
  },
  {
   "cell_type": "code",
   "execution_count": null,
   "metadata": {},
   "outputs": [],
   "source": []
  },
  {
   "cell_type": "code",
   "execution_count": null,
   "metadata": {},
   "outputs": [],
   "source": []
  }
 ],
 "metadata": {
  "kernelspec": {
   "display_name": "Python 3",
   "language": "python",
   "name": "python3"
  },
  "language_info": {
   "codemirror_mode": {
    "name": "ipython",
    "version": 3
   },
   "file_extension": ".py",
   "mimetype": "text/x-python",
   "name": "python",
   "nbconvert_exporter": "python",
   "pygments_lexer": "ipython3",
   "version": "3.7.6"
  }
 },
 "nbformat": 4,
 "nbformat_minor": 4
}
